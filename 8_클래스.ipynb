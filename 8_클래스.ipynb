{
 "cells": [
  {
   "cell_type": "markdown",
   "id": "0c548655-4e59-472d-83dc-a1270b5b7a63",
   "metadata": {},
   "source": [
    "## 1. 클래스는 왜 필요한가?"
   ]
  },
  {
   "cell_type": "code",
   "execution_count": 1,
   "id": "c64c6f44-0b1f-475c-af2f-49e5bbbd677b",
   "metadata": {},
   "outputs": [
    {
     "name": "stdout",
     "output_type": "stream",
     "text": [
      "3\n",
      "7\n"
     ]
    }
   ],
   "source": [
    "# 함수로 계산기 만들기\n",
    "result = 0\n",
    "\n",
    "def add(num):\n",
    "    global result\n",
    "    result += num\n",
    "    return result\n",
    "\n",
    "print(add(3))   # 0+3=3\n",
    "print(add(4))   # 3+4=7"
   ]
  },
  {
   "cell_type": "code",
   "execution_count": 2,
   "id": "74654134-0ef9-47b1-b790-e041ae6c62c9",
   "metadata": {},
   "outputs": [
    {
     "name": "stdout",
     "output_type": "stream",
     "text": [
      "3\n",
      "7\n",
      "5\n",
      "11\n"
     ]
    }
   ],
   "source": [
    "# 계산기 2개로 각각 계산\n",
    "res1 = 0\n",
    "res2 = 0\n",
    "\n",
    "def add1(num):\n",
    "    global res1\n",
    "    res1 += num\n",
    "    return res1\n",
    "\n",
    "def add2(num):\n",
    "    global res2\n",
    "    res2 += num\n",
    "    return res2\n",
    "\n",
    "print(add1(3))\n",
    "print(add1(4))\n",
    "print(add2(5))\n",
    "print(add2(6))"
   ]
  },
  {
   "cell_type": "code",
   "execution_count": 7,
   "id": "8d290b7f-70c0-4ebb-93ea-ecc75d807206",
   "metadata": {},
   "outputs": [
    {
     "name": "stdout",
     "output_type": "stream",
     "text": [
      "3\n",
      "7\n",
      "5\n",
      "11\n"
     ]
    }
   ],
   "source": [
    "# 클래스로 여러개 계산기 만들기\n",
    "class Calculator:\n",
    "    def __init__(self):\n",
    "        self.result = 0   # 계산기 초기값\n",
    "\n",
    "    def add(self,num):\n",
    "        self.result += num\n",
    "        return self.result\n",
    "\n",
    "cal1 = Calculator()  # 인스턴스 = 계산기1\n",
    "cal2 = Calculator()  # 인스턴스 = 계산기2\n",
    "\n",
    "print(cal1.add(3))\n",
    "print(cal1.add(4))\n",
    "print(cal2.add(5))\n",
    "print(cal2.add(6))"
   ]
  },
  {
   "cell_type": "code",
   "execution_count": 8,
   "id": "3f749fd3-d9f5-41ac-86c5-d78a069673ed",
   "metadata": {},
   "outputs": [
    {
     "name": "stdout",
     "output_type": "stream",
     "text": [
      "10\n",
      "13\n",
      "8\n",
      "--------------------\n",
      "-5\n",
      "15\n"
     ]
    }
   ],
   "source": [
    "# 더하기 / 빼기 기능이 있는 계산기의 설계도(class)\n",
    "class Calculator:\n",
    "    def __init__(self):\n",
    "        self.result = 0   # 계산기 초기값\n",
    "\n",
    "    def add(self,num):\n",
    "        self.result += num\n",
    "        return self.result\n",
    "\n",
    "    def sub(self,num):\n",
    "        self.result -= num\n",
    "        return self.result\n",
    "\n",
    "cal1 = Calculator()\n",
    "print(cal1.add(10))   # 0+10 = 10\n",
    "print(cal1.add(3))    # 10+3 = 13\n",
    "print(cal1.sub(5))    # 13-5= 8\n",
    "print('-'*20)\n",
    "cal2 = Calculator()\n",
    "print(cal2.sub(5))    # 0-5 = -5\n",
    "print(cal2.add(20))   # -5+20 = 15"
   ]
  },
  {
   "cell_type": "markdown",
   "id": "14be357d-edc1-44e3-9432-e756ae380d18",
   "metadata": {},
   "source": [
    "## 3. 사칙연산 클래스 만들기"
   ]
  },
  {
   "cell_type": "code",
   "execution_count": 9,
   "id": "f5981f1e-2d6b-466c-8f74-23cc3a68cf31",
   "metadata": {},
   "outputs": [],
   "source": [
    "class FourCal:\n",
    "    pass"
   ]
  },
  {
   "cell_type": "code",
   "execution_count": 10,
   "id": "53f0a297-e573-4f1d-8e45-fbe0dfedaee4",
   "metadata": {},
   "outputs": [
    {
     "data": {
      "text/plain": [
       "__main__.FourCal"
      ]
     },
     "execution_count": 10,
     "metadata": {},
     "output_type": "execute_result"
    }
   ],
   "source": [
    "a = FourCal()\n",
    "type(a)"
   ]
  },
  {
   "cell_type": "code",
   "execution_count": 11,
   "id": "2ed768c7-2db5-4eeb-83c3-6232fd66e369",
   "metadata": {},
   "outputs": [],
   "source": [
    "class FourCal:\n",
    "    def setdata(self, first, second):\n",
    "        self.first = first\n",
    "        self.second = second"
   ]
  },
  {
   "cell_type": "code",
   "execution_count": 15,
   "id": "ff9ed900-6605-42fd-8104-f09cd549474b",
   "metadata": {},
   "outputs": [
    {
     "name": "stdout",
     "output_type": "stream",
     "text": [
      "3 4\n"
     ]
    }
   ],
   "source": [
    "a = FourCal()  # 인스턴스 생성\n",
    "a.setdata(3,4)\n",
    "print(a.first, a.second)"
   ]
  },
  {
   "cell_type": "code",
   "execution_count": 16,
   "id": "c52a7e05-95fb-466b-a073-fd61d8fb48d2",
   "metadata": {},
   "outputs": [
    {
     "name": "stdout",
     "output_type": "stream",
     "text": [
      "6\n",
      "2\n",
      "8\n",
      "2.0\n",
      "********************\n",
      "11\n",
      "-5\n",
      "24\n",
      "0.375\n"
     ]
    }
   ],
   "source": [
    "class FourCal:\n",
    "    def setdata(self, first, second):\n",
    "        self.first = first\n",
    "        self.second = second\n",
    "\n",
    "    def add(self):\n",
    "        result = self.first + self.second\n",
    "        return result\n",
    "\n",
    "    def sub(self):\n",
    "        result = self.first - self.second\n",
    "        return result\n",
    "\n",
    "    def mul(self):\n",
    "        result = self.first * self.second\n",
    "        return result  \n",
    "\n",
    "    def div(self):\n",
    "        result = self.first / self.second\n",
    "        return result\n",
    "\n",
    "cal1 = FourCal()   # 계산기1\n",
    "cal2 = FourCal()   # 계산기2\n",
    "\n",
    "# 계산기에 2개의 숫자 입력\n",
    "cal1.setdata(4,2)\n",
    "cal2.setdata(3,8)\n",
    "\n",
    "print(cal1.add())\n",
    "print(cal1.sub())\n",
    "print(cal1.mul())\n",
    "print(cal1.div())\n",
    "print(\"*\"*20)\n",
    "print(cal2.add())\n",
    "print(cal2.sub())\n",
    "print(cal2.mul())\n",
    "print(cal2.div())"
   ]
  },
  {
   "cell_type": "markdown",
   "id": "f653f559-fded-4684-b574-abaf646c82c7",
   "metadata": {},
   "source": [
    "## 4. 생성자"
   ]
  },
  {
   "cell_type": "code",
   "execution_count": 17,
   "id": "41bee50a-1e5e-43a5-891b-eef967a61f77",
   "metadata": {},
   "outputs": [],
   "source": [
    "class FourCal:\n",
    "    def __init__(self, first, second):\n",
    "        self.first = first\n",
    "        self.second = second\n",
    "\n",
    "    def add(self):\n",
    "        result = self.first + self.second\n",
    "        return result\n",
    "\n",
    "    def sub(self):\n",
    "        result = self.first - self.second\n",
    "        return result\n",
    "\n",
    "    def mul(self):\n",
    "        result = self.first * self.second\n",
    "        return result  \n",
    "\n",
    "    def div(self):\n",
    "        result = self.first / self.second\n",
    "        return result"
   ]
  },
  {
   "cell_type": "code",
   "execution_count": 19,
   "id": "c2e85537-ad51-46f0-911f-5dabe098f396",
   "metadata": {},
   "outputs": [
    {
     "ename": "TypeError",
     "evalue": "FourCal.__init__() missing 2 required positional arguments: 'first' and 'second'",
     "output_type": "error",
     "traceback": [
      "\u001b[1;31m---------------------------------------------------------------------------\u001b[0m",
      "\u001b[1;31mTypeError\u001b[0m                                 Traceback (most recent call last)",
      "Cell \u001b[1;32mIn[19], line 1\u001b[0m\n\u001b[1;32m----> 1\u001b[0m calc1 \u001b[38;5;241m=\u001b[39m FourCal()\n",
      "\u001b[1;31mTypeError\u001b[0m: FourCal.__init__() missing 2 required positional arguments: 'first' and 'second'"
     ]
    }
   ],
   "source": [
    "calc1 = FourCal()"
   ]
  },
  {
   "cell_type": "code",
   "execution_count": 20,
   "id": "b4118c4e-019d-41c9-8d28-4c8f4b3eb6e9",
   "metadata": {},
   "outputs": [],
   "source": [
    "calc1 = FourCal(15,3)"
   ]
  },
  {
   "cell_type": "code",
   "execution_count": 21,
   "id": "053d4e00-f6ab-442b-a416-1720e47b93ff",
   "metadata": {},
   "outputs": [
    {
     "data": {
      "text/plain": [
       "15"
      ]
     },
     "execution_count": 21,
     "metadata": {},
     "output_type": "execute_result"
    }
   ],
   "source": [
    "calc1.first"
   ]
  },
  {
   "cell_type": "code",
   "execution_count": 22,
   "id": "f4c135f8-bf70-4dd7-85d2-603e2e8e5a00",
   "metadata": {},
   "outputs": [
    {
     "data": {
      "text/plain": [
       "3"
      ]
     },
     "execution_count": 22,
     "metadata": {},
     "output_type": "execute_result"
    }
   ],
   "source": [
    "calc1.second"
   ]
  },
  {
   "cell_type": "code",
   "execution_count": 24,
   "id": "977bd228-69e9-4ec3-97b9-cf236abd026f",
   "metadata": {},
   "outputs": [
    {
     "name": "stdout",
     "output_type": "stream",
     "text": [
      "15 + 3 = 18\n",
      "15 - 3 = 12\n",
      "15 * 3 = 45\n",
      "15 / 3 = 5.0\n"
     ]
    }
   ],
   "source": [
    "print('15 + 3 =',calc1.add())\n",
    "print('15 - 3 =',calc1.sub())\n",
    "print('15 * 3 =',calc1.mul())\n",
    "print('15 / 3 =',calc1.div())"
   ]
  },
  {
   "cell_type": "markdown",
   "id": "c68338b9-0e89-4154-bde0-55c8efbd8e5b",
   "metadata": {},
   "source": [
    "## 클래스 상속"
   ]
  },
  {
   "cell_type": "code",
   "execution_count": 25,
   "id": "a50b8986-b640-40c0-af3e-6862329c9b6f",
   "metadata": {},
   "outputs": [],
   "source": [
    "class MoreFourCal(FourCal):\n",
    "    pass"
   ]
  },
  {
   "cell_type": "code",
   "execution_count": 26,
   "id": "d916bdf9-94c5-49a0-b340-c468fd9ee88f",
   "metadata": {},
   "outputs": [],
   "source": [
    "cal1 = MoreFourCal(4,2)"
   ]
  },
  {
   "cell_type": "code",
   "execution_count": 27,
   "id": "1a83b7ea-cb26-43c7-bb85-54563221085d",
   "metadata": {},
   "outputs": [
    {
     "name": "stdout",
     "output_type": "stream",
     "text": [
      "6\n",
      "2\n",
      "8\n",
      "2.0\n"
     ]
    }
   ],
   "source": [
    "print(cal1.add())\n",
    "print(cal1.sub())\n",
    "print(cal1.mul())\n",
    "print(cal1.div())"
   ]
  },
  {
   "cell_type": "code",
   "execution_count": 28,
   "id": "1ed79d58-e200-4fb3-b8f5-1d49520cc23f",
   "metadata": {},
   "outputs": [
    {
     "name": "stdout",
     "output_type": "stream",
     "text": [
      "6\n",
      "2\n",
      "8\n",
      "2.0\n",
      "16\n"
     ]
    }
   ],
   "source": [
    "# 기본 기능은 상속받았고, MoreFourCal만의 기능을 추가\n",
    "class MoreFourCal(FourCal):\n",
    "    def pow(self):\n",
    "        result = self.first** self.second\n",
    "        return result\n",
    "\n",
    "cal2 = MoreFourCal(4,2)\n",
    "print(cal2.add())\n",
    "print(cal2.sub())\n",
    "print(cal2.mul())\n",
    "print(cal2.div())\n",
    "print(cal2.pow())"
   ]
  },
  {
   "cell_type": "code",
   "execution_count": 29,
   "id": "b084fcc3-b494-4ec6-8d24-b5a5ee47930a",
   "metadata": {},
   "outputs": [
    {
     "name": "stdout",
     "output_type": "stream",
     "text": [
      "4\n",
      "4\n",
      "0\n"
     ]
    }
   ],
   "source": [
    "cal3 = MoreFourCal(4,0)\n",
    "print(cal3.add())\n",
    "print(cal3.sub())\n",
    "print(cal3.mul())"
   ]
  },
  {
   "cell_type": "code",
   "execution_count": 30,
   "id": "68989a4f-3a5c-4ba8-ad5a-de300dabe9e2",
   "metadata": {},
   "outputs": [
    {
     "ename": "ZeroDivisionError",
     "evalue": "division by zero",
     "output_type": "error",
     "traceback": [
      "\u001b[1;31m---------------------------------------------------------------------------\u001b[0m",
      "\u001b[1;31mZeroDivisionError\u001b[0m                         Traceback (most recent call last)",
      "Cell \u001b[1;32mIn[30], line 1\u001b[0m\n\u001b[1;32m----> 1\u001b[0m \u001b[38;5;28mprint\u001b[39m(cal3\u001b[38;5;241m.\u001b[39mdiv())\n",
      "Cell \u001b[1;32mIn[17], line 19\u001b[0m, in \u001b[0;36mFourCal.div\u001b[1;34m(self)\u001b[0m\n\u001b[0;32m     18\u001b[0m \u001b[38;5;28;01mdef\u001b[39;00m\u001b[38;5;250m \u001b[39m\u001b[38;5;21mdiv\u001b[39m(\u001b[38;5;28mself\u001b[39m):\n\u001b[1;32m---> 19\u001b[0m     result \u001b[38;5;241m=\u001b[39m \u001b[38;5;28mself\u001b[39m\u001b[38;5;241m.\u001b[39mfirst \u001b[38;5;241m/\u001b[39m \u001b[38;5;28mself\u001b[39m\u001b[38;5;241m.\u001b[39msecond\n\u001b[0;32m     20\u001b[0m     \u001b[38;5;28;01mreturn\u001b[39;00m result\n",
      "\u001b[1;31mZeroDivisionError\u001b[0m: division by zero"
     ]
    }
   ],
   "source": [
    "print(cal3.div())"
   ]
  },
  {
   "cell_type": "markdown",
   "id": "876a39ce-3aed-427e-b27e-038b1aef6b8a",
   "metadata": {},
   "source": [
    "## 6. 메서드 오버라이딩"
   ]
  },
  {
   "cell_type": "code",
   "execution_count": 31,
   "id": "d7db1625-aa1e-43cf-8b32-baae62e55e9e",
   "metadata": {},
   "outputs": [],
   "source": [
    "class SafeFourCal(FourCal):\n",
    "    # 상속받은 메서드 재정의(overriding)\n",
    "    def div(self):\n",
    "        if self.second == 0:\n",
    "            return 0\n",
    "        else:\n",
    "            result = self.first / self.second\n",
    "            return result"
   ]
  },
  {
   "cell_type": "code",
   "execution_count": 32,
   "id": "a6b614a7-c6be-481a-9122-8664bd3aaa80",
   "metadata": {},
   "outputs": [],
   "source": [
    "clac = SafeFourCal(4,0)"
   ]
  },
  {
   "cell_type": "code",
   "execution_count": 33,
   "id": "68ee7d7e-fd08-437e-b1b6-f297624b70a1",
   "metadata": {},
   "outputs": [
    {
     "name": "stdout",
     "output_type": "stream",
     "text": [
      "4\n",
      "4\n",
      "0\n",
      "0\n"
     ]
    }
   ],
   "source": [
    "print(clac.add())\n",
    "print(clac.sub())\n",
    "print(clac.mul())\n",
    "print(clac.div())"
   ]
  },
  {
   "cell_type": "markdown",
   "id": "64023f4d-e465-48e6-9024-aa877c6c931e",
   "metadata": {},
   "source": [
    "## 7. 클래스 변수"
   ]
  },
  {
   "cell_type": "code",
   "execution_count": 41,
   "id": "26891640-47d3-4b33-ae08-9aee4d3b74af",
   "metadata": {},
   "outputs": [],
   "source": [
    "class Family:\n",
    "    lastname = '김'"
   ]
  },
  {
   "cell_type": "code",
   "execution_count": 42,
   "id": "46b78266-c91b-464d-8fd7-2becf23f913c",
   "metadata": {},
   "outputs": [
    {
     "data": {
      "text/plain": [
       "'김'"
      ]
     },
     "execution_count": 42,
     "metadata": {},
     "output_type": "execute_result"
    }
   ],
   "source": [
    "Family.lastname"
   ]
  },
  {
   "cell_type": "code",
   "execution_count": 43,
   "id": "e29d1874-ba74-4755-8639-c0876021df04",
   "metadata": {},
   "outputs": [
    {
     "name": "stdout",
     "output_type": "stream",
     "text": [
      "김\n",
      "김\n"
     ]
    }
   ],
   "source": [
    "a = Family()\n",
    "b = Family()\n",
    "print(a.lastname)\n",
    "print(b.lastname)"
   ]
  },
  {
   "cell_type": "code",
   "execution_count": 44,
   "id": "ed81c9ac-56f5-4188-a765-4df59a7df2a3",
   "metadata": {},
   "outputs": [
    {
     "name": "stdout",
     "output_type": "stream",
     "text": [
      "박\n",
      "박\n"
     ]
    }
   ],
   "source": [
    "Family.lastname = '박'\n",
    "# Family.lastname => 클래스 변수, 클래스 변수를 변경하면 인스턴스 변수도 변경\n",
    "print(a.lastname)\n",
    "print(b.lastname)"
   ]
  },
  {
   "cell_type": "code",
   "execution_count": 47,
   "id": "6bb321e0-1a8f-4f11-87c7-bdad31fc6209",
   "metadata": {},
   "outputs": [
    {
     "name": "stdout",
     "output_type": "stream",
     "text": [
      "최\n",
      "박\n"
     ]
    }
   ],
   "source": [
    "# 인스턴스 변수만 변경\n",
    "a.lastname = '최'\n",
    "print(a.lastname)  # 인스턴스 변수만 변경하면 해당 인스턴스 변수만 변경됨\n",
    "print(b.lastname)"
   ]
  },
  {
   "cell_type": "code",
   "execution_count": null,
   "id": "df5d0867-8bdc-4af3-be38-c52f6eb0be81",
   "metadata": {},
   "outputs": [],
   "source": []
  }
 ],
 "metadata": {
  "kernelspec": {
   "display_name": "Python 3 (ipykernel)",
   "language": "python",
   "name": "python3"
  },
  "language_info": {
   "codemirror_mode": {
    "name": "ipython",
    "version": 3
   },
   "file_extension": ".py",
   "mimetype": "text/x-python",
   "name": "python",
   "nbconvert_exporter": "python",
   "pygments_lexer": "ipython3",
   "version": "3.13.5"
  }
 },
 "nbformat": 4,
 "nbformat_minor": 5
}
