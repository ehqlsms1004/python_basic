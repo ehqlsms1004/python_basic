{
 "cells": [
  {
   "cell_type": "markdown",
   "id": "cca4db14-d40e-43d2-87e3-88e2d94624a7",
   "metadata": {},
   "source": [
    "### 문자열 만들고 사용하기"
   ]
  },
  {
   "cell_type": "code",
   "execution_count": 1,
   "id": "1c555395-3a90-46a1-b6b2-3df78a0f53fd",
   "metadata": {},
   "outputs": [
    {
     "data": {
      "text/plain": [
       "'Hello World'"
      ]
     },
     "execution_count": 1,
     "metadata": {},
     "output_type": "execute_result"
    }
   ],
   "source": [
    "\"Hello World\""
   ]
  },
  {
   "cell_type": "code",
   "execution_count": 2,
   "id": "7a6c604e-5fc8-43ea-b6b0-071fe800b2a6",
   "metadata": {},
   "outputs": [
    {
     "data": {
      "text/plain": [
       "'Python is fun'"
      ]
     },
     "execution_count": 2,
     "metadata": {},
     "output_type": "execute_result"
    }
   ],
   "source": [
    "'Python is fun'"
   ]
  },
  {
   "cell_type": "code",
   "execution_count": 3,
   "id": "6b30caed-ba7e-4bc5-8b5c-7860d0c34d18",
   "metadata": {},
   "outputs": [
    {
     "data": {
      "text/plain": [
       "'Life is too short, You need python'"
      ]
     },
     "execution_count": 3,
     "metadata": {},
     "output_type": "execute_result"
    }
   ],
   "source": [
    "\"\"\"Life is too short, You need python\"\"\""
   ]
  },
  {
   "cell_type": "code",
   "execution_count": 5,
   "id": "ef1f0b34-bc46-4307-808c-48bac9b170c0",
   "metadata": {},
   "outputs": [
    {
     "data": {
      "text/plain": [
       "'Life is too short, You need python'"
      ]
     },
     "execution_count": 5,
     "metadata": {},
     "output_type": "execute_result"
    }
   ],
   "source": [
    "'''Life is too short, You need python'''"
   ]
  },
  {
   "cell_type": "markdown",
   "id": "85ee76ef-fd07-4cd3-8bc7-9b66e466a599",
   "metadata": {},
   "source": [
    "### 문자열 안 작은따옴표/큰따옴표 문자로 포함"
   ]
  },
  {
   "cell_type": "code",
   "execution_count": 15,
   "id": "f23a9ee3-e262-49cc-a1ff-96fd08676a97",
   "metadata": {},
   "outputs": [
    {
     "name": "stdout",
     "output_type": "stream",
     "text": [
      "Python's favorite food is pen\n"
     ]
    }
   ],
   "source": [
    "food = \"Python's favorite food is pen\"\n",
    "print(food)"
   ]
  },
  {
   "cell_type": "code",
   "execution_count": 16,
   "id": "7c6b9b93-1158-4408-85c1-cd2c2b2a78f4",
   "metadata": {},
   "outputs": [
    {
     "ename": "SyntaxError",
     "evalue": "unterminated string literal (detected at line 1) (3227776419.py, line 1)",
     "output_type": "error",
     "traceback": [
      "\u001b[1;36m  Cell \u001b[1;32mIn[16], line 1\u001b[1;36m\u001b[0m\n\u001b[1;33m    food = 'Python's favorite food is pen'\u001b[0m\n\u001b[1;37m                                         ^\u001b[0m\n\u001b[1;31mSyntaxError\u001b[0m\u001b[1;31m:\u001b[0m unterminated string literal (detected at line 1)\n"
     ]
    }
   ],
   "source": [
    "food = 'Python's favorite food is pen'\n",
    "print(food)"
   ]
  },
  {
   "cell_type": "code",
   "execution_count": 33,
   "id": "d3a8e876-ccdf-4962-96fe-10bf1b1fdebb",
   "metadata": {},
   "outputs": [
    {
     "name": "stdout",
     "output_type": "stream",
     "text": [
      "Python's favorite food is pen\n"
     ]
    }
   ],
   "source": [
    "# 작은따옴표 연속 사용시 앞에 \\ 삽입\n",
    "food = 'Python\\'s favorite food is pen'\n",
    "print(food)"
   ]
  },
  {
   "cell_type": "markdown",
   "id": "8788e52f-3a75-48ed-b741-40f09b4888dc",
   "metadata": {},
   "source": [
    "### 문자열 큰 따옴표 포함"
   ]
  },
  {
   "cell_type": "code",
   "execution_count": 14,
   "id": "bd9aba12-63dd-405a-a921-7f5c747991cf",
   "metadata": {},
   "outputs": [
    {
     "name": "stdout",
     "output_type": "stream",
     "text": [
      "\"Python is very easy\"he says.\n"
     ]
    }
   ],
   "source": [
    "say = '\"Python is very easy\"he says.'\n",
    "print(say)"
   ]
  },
  {
   "cell_type": "markdown",
   "id": "ebf98252-954a-451d-b592-5192cc0c547b",
   "metadata": {},
   "source": [
    "### 역슬래시 문자열 포함"
   ]
  },
  {
   "cell_type": "code",
   "execution_count": 17,
   "id": "5b7d6904-ed37-48b7-ab3e-2147f13e4ec1",
   "metadata": {},
   "outputs": [
    {
     "ename": "SyntaxError",
     "evalue": "unterminated string literal (detected at line 1) (2849032959.py, line 1)",
     "output_type": "error",
     "traceback": [
      "\u001b[1;36m  Cell \u001b[1;32mIn[17], line 1\u001b[1;36m\u001b[0m\n\u001b[1;33m    food = 'Python's favorite is perl'\u001b[0m\n\u001b[1;37m                                     ^\u001b[0m\n\u001b[1;31mSyntaxError\u001b[0m\u001b[1;31m:\u001b[0m unterminated string literal (detected at line 1)\n"
     ]
    }
   ],
   "source": [
    "food = 'Python's favorite is perl'"
   ]
  },
  {
   "cell_type": "code",
   "execution_count": 19,
   "id": "b46cadd6-f014-4905-84c1-f332c57788a4",
   "metadata": {},
   "outputs": [
    {
     "name": "stdout",
     "output_type": "stream",
     "text": [
      "\"Python is very easy.\" he says.\n"
     ]
    }
   ],
   "source": [
    "say = \"\\\"Python is very easy.\\\" he says.\"\n",
    "print(say)"
   ]
  },
  {
   "cell_type": "markdown",
   "id": "0f833a49-4ecb-48a5-ae52-8c8f16adcfde",
   "metadata": {},
   "source": [
    "### 여러 줄의 문자열 변수에 대입"
   ]
  },
  {
   "cell_type": "code",
   "execution_count": 26,
   "id": "2326a33e-582c-482b-955c-12fa9353ece9",
   "metadata": {},
   "outputs": [
    {
     "name": "stdout",
     "output_type": "stream",
     "text": [
      "Life is too short\n",
      " you need python\n"
     ]
    }
   ],
   "source": [
    "# \\n 삽입\n",
    "a = \"Life is too short\\n you need python\"\n",
    "print(a)"
   ]
  },
  {
   "cell_type": "code",
   "execution_count": 24,
   "id": "460884fc-0d89-47d2-8074-9609b8883a1b",
   "metadata": {},
   "outputs": [
    {
     "name": "stdout",
     "output_type": "stream",
     "text": [
      "Life is too short You need python\n"
     ]
    }
   ],
   "source": [
    "a = '''Life is too short You need python'''\n",
    "print(a)"
   ]
  },
  {
   "cell_type": "code",
   "execution_count": 25,
   "id": "1f27b6b0-14cb-4627-97e9-e912f6682dc2",
   "metadata": {},
   "outputs": [
    {
     "name": "stdout",
     "output_type": "stream",
     "text": [
      "Life is too short You need python\n"
     ]
    }
   ],
   "source": [
    "a = \"\"\"Life is too short You need python\"\"\"\n",
    "print(a)"
   ]
  },
  {
   "cell_type": "markdown",
   "id": "df6a91c6-1697-4408-85c8-4450cf6de448",
   "metadata": {},
   "source": [
    "### 문자열 연산"
   ]
  },
  {
   "cell_type": "code",
   "execution_count": 36,
   "id": "18071a3b-1285-4cf3-a45f-f76a545dbcfc",
   "metadata": {},
   "outputs": [
    {
     "name": "stdout",
     "output_type": "stream",
     "text": [
      "Ptyhon Is fun!\n"
     ]
    }
   ],
   "source": [
    "# 문자열 더하기\n",
    "head = \"Ptyhon\"\n",
    "tail = \" Is fun!\"\n",
    "print(head+tail)"
   ]
  },
  {
   "cell_type": "code",
   "execution_count": 37,
   "id": "8438bc9f-be1b-4785-9fc0-5ad975db4cc7",
   "metadata": {},
   "outputs": [
    {
     "data": {
      "text/plain": [
       "'PythonPython'"
      ]
     },
     "execution_count": 37,
     "metadata": {},
     "output_type": "execute_result"
    }
   ],
   "source": [
    "# 문자열 곱하기\n",
    "a = \"Python\"\n",
    "a * 2"
   ]
  },
  {
   "cell_type": "code",
   "execution_count": 41,
   "id": "f18d5263-8770-4489-93bd-0e13731aed33",
   "metadata": {},
   "outputs": [
    {
     "name": "stdout",
     "output_type": "stream",
     "text": [
      "==================================================\n",
      "My cat\n",
      "==================================================\n"
     ]
    }
   ],
   "source": [
    "# 문자열 반복\n",
    "print(\"=\"*50)\n",
    "print(\"My cat\")\n",
    "print(\"=\"*50)"
   ]
  },
  {
   "cell_type": "markdown",
   "id": "d730e225-7037-43ef-b7cd-f84e0efdc291",
   "metadata": {},
   "source": [
    "### 문자열 길이 구하기"
   ]
  },
  {
   "cell_type": "code",
   "execution_count": 42,
   "id": "47a713bc-1f70-4f32-a3b2-42afb46654e0",
   "metadata": {},
   "outputs": [
    {
     "data": {
      "text/plain": [
       "19"
      ]
     },
     "execution_count": 42,
     "metadata": {},
     "output_type": "execute_result"
    }
   ],
   "source": [
    "a = \"My cat is very cute\"\n",
    "len(a)"
   ]
  },
  {
   "cell_type": "markdown",
   "id": "e183f6ae-0e3b-49c5-939b-74ee888fa2bc",
   "metadata": {},
   "source": [
    "### 문자열 인덱싱"
   ]
  },
  {
   "cell_type": "code",
   "execution_count": 43,
   "id": "c304557b-4766-46aa-ae44-953a38e6dffc",
   "metadata": {},
   "outputs": [
    {
     "data": {
      "text/plain": [
       "'c'"
      ]
     },
     "execution_count": 43,
     "metadata": {},
     "output_type": "execute_result"
    }
   ],
   "source": [
    "# 인덱싱(indexing) 가리킨다\n",
    "a = \"My cat is very cute\"\n",
    "a[3]"
   ]
  },
  {
   "cell_type": "code",
   "execution_count": 44,
   "id": "9315dab6-26c7-4087-bfdd-6fc94480bf77",
   "metadata": {},
   "outputs": [
    {
     "data": {
      "text/plain": [
       "'r'"
      ]
     },
     "execution_count": 44,
     "metadata": {},
     "output_type": "execute_result"
    }
   ],
   "source": [
    "a[12]"
   ]
  },
  {
   "cell_type": "code",
   "execution_count": 45,
   "id": "72ac603d-68d3-4283-bc76-c8d5802b54ee",
   "metadata": {},
   "outputs": [
    {
     "data": {
      "text/plain": [
       "'e'"
      ]
     },
     "execution_count": 45,
     "metadata": {},
     "output_type": "execute_result"
    }
   ],
   "source": [
    "a[-1]  # a[-1]뒤에서 읽기"
   ]
  },
  {
   "cell_type": "code",
   "execution_count": 46,
   "id": "421f5521-1621-42e2-8a58-5e0a5623164f",
   "metadata": {},
   "outputs": [
    {
     "data": {
      "text/plain": [
       "' '"
      ]
     },
     "execution_count": 46,
     "metadata": {},
     "output_type": "execute_result"
    }
   ],
   "source": [
    "a[-5]"
   ]
  },
  {
   "cell_type": "markdown",
   "id": "f3ecbb49-c73a-49b4-96d6-343cbfc55d24",
   "metadata": {},
   "source": [
    "### 문자열 슬라이싱"
   ]
  },
  {
   "cell_type": "code",
   "execution_count": null,
   "id": "de3389b3-b77a-439e-9a17-78b922f23d29",
   "metadata": {},
   "outputs": [],
   "source": []
  },
  {
   "cell_type": "markdown",
   "id": "d71c1f18-4a3e-4764-9f76-5b9612d6904a",
   "metadata": {},
   "source": [
    "# 딕셔너리"
   ]
  },
  {
   "cell_type": "code",
   "execution_count": 2,
   "id": "4706062f-62c6-4ff0-ab0b-9ff4af56316f",
   "metadata": {},
   "outputs": [],
   "source": [
    "# key / value 한 쌍"
   ]
  },
  {
   "cell_type": "code",
   "execution_count": 6,
   "id": "43469b84-4841-4f48-884b-7e117fa37279",
   "metadata": {},
   "outputs": [
    {
     "data": {
      "text/plain": [
       "{'name': 'jhs', 'phone': '010-5151-5151', 'brith': '7777'}"
      ]
     },
     "execution_count": 6,
     "metadata": {},
     "output_type": "execute_result"
    }
   ],
   "source": [
    "# 중괄호 사용\n",
    "dic = {'name' : 'jhs' , 'phone' : '010-5151-5151', 'brith' : '7777'}\n",
    "dic"
   ]
  },
  {
   "cell_type": "code",
   "execution_count": 4,
   "id": "b794577d-d476-47a2-b8b0-70f990dfd9f4",
   "metadata": {},
   "outputs": [
    {
     "name": "stdout",
     "output_type": "stream",
     "text": [
      "jhs\n"
     ]
    }
   ],
   "source": [
    "print(dic['name'])"
   ]
  },
  {
   "cell_type": "code",
   "execution_count": 5,
   "id": "11c763b1-5862-4795-8280-5cb4f30dccbf",
   "metadata": {},
   "outputs": [
    {
     "name": "stdout",
     "output_type": "stream",
     "text": [
      "7777\n"
     ]
    }
   ],
   "source": [
    "print(dic['brith'])"
   ]
  },
  {
   "cell_type": "markdown",
   "id": "d39d1d19-15ae-4e92-b93d-fdc8fc579ce6",
   "metadata": {},
   "source": [
    "### 쌍 추가 삭제"
   ]
  },
  {
   "cell_type": "code",
   "execution_count": 8,
   "id": "8dc97c4c-883c-40f7-8186-8d8da307fd14",
   "metadata": {},
   "outputs": [
    {
     "data": {
      "text/plain": [
       "{1: 'a', 2: 'b'}"
      ]
     },
     "execution_count": 8,
     "metadata": {},
     "output_type": "execute_result"
    }
   ],
   "source": [
    "a = {1 : 'a'}\n",
    "a[2] = 'b'\n",
    "a"
   ]
  },
  {
   "cell_type": "code",
   "execution_count": 9,
   "id": "0e54dbb3-f457-497b-a7e5-f257dacc9b1c",
   "metadata": {},
   "outputs": [
    {
     "data": {
      "text/plain": [
       "{1: 'a', 2: 'b', 'name': 'pig'}"
      ]
     },
     "execution_count": 9,
     "metadata": {},
     "output_type": "execute_result"
    }
   ],
   "source": [
    "a['name'] = 'pig'\n",
    "a"
   ]
  },
  {
   "cell_type": "code",
   "execution_count": 12,
   "id": "e8f273dd-ff36-4a7c-bf52-48208d11c0ae",
   "metadata": {},
   "outputs": [
    {
     "data": {
      "text/plain": [
       "{2: 'b', 'name': 'pig', 3: [1, 2, 3]}"
      ]
     },
     "execution_count": 12,
     "metadata": {},
     "output_type": "execute_result"
    }
   ],
   "source": [
    "# 키 이름 숫자일 경우 헷갈릴수 있음\n",
    "a[3] = [1,2,3]\n",
    "a"
   ]
  },
  {
   "cell_type": "code",
   "execution_count": 11,
   "id": "c6eb8248-538c-4a09-a082-36f057ee29cb",
   "metadata": {},
   "outputs": [
    {
     "data": {
      "text/plain": [
       "{2: 'b', 'name': 'pig', 3: [1, 2, 3]}"
      ]
     },
     "execution_count": 11,
     "metadata": {},
     "output_type": "execute_result"
    }
   ],
   "source": [
    "del a[1]\n",
    "a"
   ]
  },
  {
   "cell_type": "code",
   "execution_count": 15,
   "id": "c92cb9c1-800c-4fac-91d4-3720126353bc",
   "metadata": {},
   "outputs": [
    {
     "data": {
      "text/plain": [
       "{2: 'b'}"
      ]
     },
     "execution_count": 15,
     "metadata": {},
     "output_type": "execute_result"
    }
   ],
   "source": [
    "del a[3]\n",
    "a"
   ]
  },
  {
   "cell_type": "markdown",
   "id": "dae743d2-b087-438d-855a-4937a3f595fa",
   "metadata": {},
   "source": [
    "### 딕셔너리 사용방법"
   ]
  },
  {
   "cell_type": "code",
   "execution_count": 18,
   "id": "560d9870-219c-4983-9c0c-81bad21ea543",
   "metadata": {},
   "outputs": [
    {
     "name": "stdout",
     "output_type": "stream",
     "text": [
      "18\n",
      "28\n"
     ]
    }
   ],
   "source": [
    "# key를 사용해 Value 얻기\n",
    "# 딕셔너리 + 변수 + key\n",
    "grade = {'hellow' : 18 , 'hi' : 28}\n",
    "print(grade['hellow'])\n",
    "print(grade['hi'])"
   ]
  },
  {
   "cell_type": "code",
   "execution_count": 20,
   "id": "a86e92bd-ba6f-4b2f-aad4-a6eedf497d4a",
   "metadata": {},
   "outputs": [
    {
     "data": {
      "text/plain": [
       "'b'"
      ]
     },
     "execution_count": 20,
     "metadata": {},
     "output_type": "execute_result"
    }
   ],
   "source": [
    "a[2]"
   ]
  },
  {
   "cell_type": "code",
   "execution_count": 21,
   "id": "fb0803cf-2429-4ade-a62a-874cc94a5a33",
   "metadata": {},
   "outputs": [
    {
     "data": {
      "text/plain": [
       "{2: 'b'}"
      ]
     },
     "execution_count": 21,
     "metadata": {},
     "output_type": "execute_result"
    }
   ],
   "source": [
    "a"
   ]
  },
  {
   "cell_type": "code",
   "execution_count": 22,
   "id": "f82dbea3-b332-4eb9-839c-b182859633b9",
   "metadata": {},
   "outputs": [
    {
     "data": {
      "text/plain": [
       "'jhs'"
      ]
     },
     "execution_count": 22,
     "metadata": {},
     "output_type": "execute_result"
    }
   ],
   "source": [
    "dic = {'name' : 'jhs' , 'phone' : '010-5151-5151', 'brith' : '7777'}\n",
    "dic['name']"
   ]
  },
  {
   "cell_type": "code",
   "execution_count": 23,
   "id": "f02b8c05-0b6b-42aa-8bfb-096ca75fe531",
   "metadata": {},
   "outputs": [
    {
     "data": {
      "text/plain": [
       "'010-5151-5151'"
      ]
     },
     "execution_count": 23,
     "metadata": {},
     "output_type": "execute_result"
    }
   ],
   "source": [
    "dic['phone']"
   ]
  },
  {
   "cell_type": "code",
   "execution_count": 24,
   "id": "d9ea9653-e54e-4465-a5d5-42dc478875cc",
   "metadata": {},
   "outputs": [
    {
     "data": {
      "text/plain": [
       "'7777'"
      ]
     },
     "execution_count": 24,
     "metadata": {},
     "output_type": "execute_result"
    }
   ],
   "source": [
    "dic['brith']"
   ]
  },
  {
   "cell_type": "code",
   "execution_count": 25,
   "id": "97e13a66-5aa9-4fcd-b3ce-4b73cf9eced0",
   "metadata": {},
   "outputs": [],
   "source": [
    "# 만들 때 주의사항"
   ]
  },
  {
   "cell_type": "code",
   "execution_count": 26,
   "id": "644b97cc-98e2-47ef-aa98-55b7f47ed4b8",
   "metadata": {},
   "outputs": [
    {
     "ename": "TypeError",
     "evalue": "unhashable type: 'list'",
     "output_type": "error",
     "traceback": [
      "\u001b[1;31m---------------------------------------------------------------------------\u001b[0m",
      "\u001b[1;31mTypeError\u001b[0m                                 Traceback (most recent call last)",
      "Cell \u001b[1;32mIn[26], line 1\u001b[0m\n\u001b[1;32m----> 1\u001b[0m a \u001b[38;5;241m=\u001b[39m {[\u001b[38;5;241m1\u001b[39m,\u001b[38;5;241m2\u001b[39m] : \u001b[38;5;124m'\u001b[39m\u001b[38;5;124mhi\u001b[39m\u001b[38;5;124m'\u001b[39m}\n",
      "\u001b[1;31mTypeError\u001b[0m: unhashable type: 'list'"
     ]
    }
   ],
   "source": [
    "a = {[1,2] : 'hi'}  # key에 리스트 쓸 수 없음"
   ]
  },
  {
   "cell_type": "code",
   "execution_count": 27,
   "id": "bcd775f7-991f-4258-86fe-b569776cec74",
   "metadata": {},
   "outputs": [
    {
     "data": {
      "text/plain": [
       "{1: 'b'}"
      ]
     },
     "execution_count": 27,
     "metadata": {},
     "output_type": "execute_result"
    }
   ],
   "source": [
    "a = {1:'a',1:'b'}     # key는 고유한 값으로 중복 안됨\n",
    "a"
   ]
  },
  {
   "cell_type": "markdown",
   "id": "a4637819-545e-475d-b67e-7de4c280e15a",
   "metadata": {},
   "source": [
    "### 관련 함수"
   ]
  },
  {
   "cell_type": "code",
   "execution_count": 32,
   "id": "ed9c5dd8-14d8-433a-97ca-6ded8aadbd63",
   "metadata": {},
   "outputs": [],
   "source": [
    "# key 리스트 만들기"
   ]
  },
  {
   "cell_type": "code",
   "execution_count": 28,
   "id": "1eb7151a-d2c6-486a-bce6-6f70aa1bce91",
   "metadata": {},
   "outputs": [
    {
     "data": {
      "text/plain": [
       "dict_keys(['name', 'phone', 'brith'])"
      ]
     },
     "execution_count": 28,
     "metadata": {},
     "output_type": "execute_result"
    }
   ],
   "source": [
    "a = {'name' : 'jhs' , 'phone' : '010-5151-5151', 'brith' : '7777'}\n",
    "a.keys()"
   ]
  },
  {
   "cell_type": "code",
   "execution_count": 29,
   "id": "36b1ba8a-6b5b-40f9-a176-2576729aae3a",
   "metadata": {},
   "outputs": [
    {
     "name": "stdout",
     "output_type": "stream",
     "text": [
      "name\n",
      "phone\n",
      "brith\n"
     ]
    }
   ],
   "source": [
    "for k in a.keys():       # list 고유의 append, insert, pop,remove,soft 사용 불가\n",
    "    print(k)"
   ]
  },
  {
   "cell_type": "code",
   "execution_count": 30,
   "id": "2e2f8ae7-78f9-4f0a-a277-5c2f98875452",
   "metadata": {},
   "outputs": [
    {
     "data": {
      "text/plain": [
       "['name', 'phone', 'brith']"
      ]
     },
     "execution_count": 30,
     "metadata": {},
     "output_type": "execute_result"
    }
   ],
   "source": [
    "list(a.keys())"
   ]
  },
  {
   "cell_type": "code",
   "execution_count": 31,
   "id": "1da90a06-ae9b-4ff3-bacd-d924facc3b19",
   "metadata": {},
   "outputs": [
    {
     "data": {
      "text/plain": [
       "dict"
      ]
     },
     "execution_count": 31,
     "metadata": {},
     "output_type": "execute_result"
    }
   ],
   "source": [
    "type(a)"
   ]
  },
  {
   "cell_type": "code",
   "execution_count": 33,
   "id": "27e342d4-99d6-4da8-8201-37f0542c8177",
   "metadata": {},
   "outputs": [
    {
     "data": {
      "text/plain": [
       "dict_values(['jhs', '010-5151-5151', '7777'])"
      ]
     },
     "execution_count": 33,
     "metadata": {},
     "output_type": "execute_result"
    }
   ],
   "source": [
    "# Value 리스트 만들기\n",
    "a.values()"
   ]
  },
  {
   "cell_type": "code",
   "execution_count": 34,
   "id": "59fd16c5-c036-4200-91c1-58e14488a30f",
   "metadata": {},
   "outputs": [
    {
     "data": {
      "text/plain": [
       "dict_items([('name', 'jhs'), ('phone', '010-5151-5151'), ('brith', '7777')])"
      ]
     },
     "execution_count": 34,
     "metadata": {},
     "output_type": "execute_result"
    }
   ],
   "source": [
    "# key, value 쌍 얻기 \n",
    "# Items()\n",
    "\n",
    "a.items()"
   ]
  },
  {
   "cell_type": "code",
   "execution_count": 36,
   "id": "5e2ea450-be24-4597-b06d-1f16e75ec7a8",
   "metadata": {},
   "outputs": [
    {
     "data": {
      "text/plain": [
       "{}"
      ]
     },
     "execution_count": 36,
     "metadata": {},
     "output_type": "execute_result"
    }
   ],
   "source": [
    "# key, value 쌍 지우기\n",
    "# clear()\n",
    "\n",
    "a.clear()\n",
    "a"
   ]
  },
  {
   "cell_type": "code",
   "execution_count": 37,
   "id": "f42fa1e1-cd61-444c-bbee-f510a23fbb97",
   "metadata": {},
   "outputs": [
    {
     "data": {
      "text/plain": [
       "'jhs'"
      ]
     },
     "execution_count": 37,
     "metadata": {},
     "output_type": "execute_result"
    }
   ],
   "source": [
    "# key로 value 얻기\n",
    "# get()\n",
    "\n",
    "a = {'name' : 'jhs' , 'phone' : '010-5151-5151', 'brith' : '7777'}\n",
    "a.get('name')"
   ]
  },
  {
   "cell_type": "code",
   "execution_count": 38,
   "id": "f81e7572-384d-4afe-93f6-6b1276825eda",
   "metadata": {},
   "outputs": [
    {
     "data": {
      "text/plain": [
       "'010-5151-5151'"
      ]
     },
     "execution_count": 38,
     "metadata": {},
     "output_type": "execute_result"
    }
   ],
   "source": [
    "a.get('phone')"
   ]
  },
  {
   "cell_type": "code",
   "execution_count": 41,
   "id": "8adc605c-4c6b-421d-b122-fbc098886eab",
   "metadata": {},
   "outputs": [
    {
     "name": "stdout",
     "output_type": "stream",
     "text": [
      "None\n"
     ]
    }
   ],
   "source": [
    "print(a.get('email'))     # none 거짓이라는 뜻"
   ]
  },
  {
   "cell_type": "code",
   "execution_count": 42,
   "id": "f09a180d-dffd-4f15-87af-2e8ccc14b424",
   "metadata": {},
   "outputs": [
    {
     "data": {
      "text/plain": [
       "'hehe'"
      ]
     },
     "execution_count": 42,
     "metadata": {},
     "output_type": "execute_result"
    }
   ],
   "source": [
    "a.get('email','hehe')   # 찾는 key가 없을 경우 가져올 수 있는 디폴트 값"
   ]
  },
  {
   "cell_type": "code",
   "execution_count": 43,
   "id": "34c228b9-155c-4e6e-a756-6484b9a9f136",
   "metadata": {},
   "outputs": [
    {
     "data": {
      "text/plain": [
       "'7777'"
      ]
     },
     "execution_count": 43,
     "metadata": {},
     "output_type": "execute_result"
    }
   ],
   "source": [
    "a.get('brith','hehe')   # 찾는 key가 있는 경우 디폴트 값 무시"
   ]
  },
  {
   "cell_type": "code",
   "execution_count": 45,
   "id": "7edfed7b-a5d1-4ed2-99e4-275f9ceb6368",
   "metadata": {},
   "outputs": [
    {
     "data": {
      "text/plain": [
       "True"
      ]
     },
     "execution_count": 45,
     "metadata": {},
     "output_type": "execute_result"
    }
   ],
   "source": [
    "# key가 안에 있는지 조사하기\n",
    "# in\n",
    "\n",
    "a = {'name' : 'jhs' , 'phone' : '010-5151-5151', 'brith' : '7777'}\n",
    "'name' in a"
   ]
  },
  {
   "cell_type": "code",
   "execution_count": 46,
   "id": "2d88d4b7-5308-4016-afb1-778f1df1fb30",
   "metadata": {},
   "outputs": [
    {
     "data": {
      "text/plain": [
       "False"
      ]
     },
     "execution_count": 46,
     "metadata": {},
     "output_type": "execute_result"
    }
   ],
   "source": [
    "'email' in a"
   ]
  },
  {
   "cell_type": "markdown",
   "id": "e5fd3acd-749d-4215-915a-a80e076be6e3",
   "metadata": {},
   "source": [
    "# 튜플"
   ]
  },
  {
   "cell_type": "code",
   "execution_count": 48,
   "id": "fdd1ba78-56f9-47c4-a3c6-b750e91bb261",
   "metadata": {},
   "outputs": [],
   "source": [
    "# 튜플 만들기\n",
    "t1 = ()\n",
    "t2 = (1,)     # 1개의 요소만 가질 때 요소 뒤에 쉼표(,)를 반드시 붙여야함.\n",
    "t3 = (1,2,3)\n",
    "t4 = 1,2,3     # 소괄호() 생략 가능\n",
    "t5 = ('a','b',('ab','cd'))"
   ]
  },
  {
   "cell_type": "code",
   "execution_count": 50,
   "id": "d0516071-00e0-4944-943e-662b5bf56598",
   "metadata": {},
   "outputs": [
    {
     "ename": "TypeError",
     "evalue": "'tuple' object doesn't support item deletion",
     "output_type": "error",
     "traceback": [
      "\u001b[1;31m---------------------------------------------------------------------------\u001b[0m",
      "\u001b[1;31mTypeError\u001b[0m                                 Traceback (most recent call last)",
      "Cell \u001b[1;32mIn[50], line 2\u001b[0m\n\u001b[0;32m      1\u001b[0m t1 \u001b[38;5;241m=\u001b[39m (\u001b[38;5;241m1\u001b[39m,\u001b[38;5;241m2\u001b[39m,\u001b[38;5;124m'\u001b[39m\u001b[38;5;124ma\u001b[39m\u001b[38;5;124m'\u001b[39m,\u001b[38;5;124m'\u001b[39m\u001b[38;5;124mb\u001b[39m\u001b[38;5;124m'\u001b[39m)      \u001b[38;5;66;03m# 튜플은 요솟값을 삭제할 수 없음\u001b[39;00m\n\u001b[1;32m----> 2\u001b[0m \u001b[38;5;28;01mdel\u001b[39;00m t1[\u001b[38;5;241m0\u001b[39m]\n",
      "\u001b[1;31mTypeError\u001b[0m: 'tuple' object doesn't support item deletion"
     ]
    }
   ],
   "source": [
    "t1 = (1,2,'a','b')      #요솟값을 삭제 불가\n",
    "del t1[0]"
   ]
  },
  {
   "cell_type": "code",
   "execution_count": 51,
   "id": "4e0cdfe6-3542-429c-a8d9-8d1684674b6c",
   "metadata": {},
   "outputs": [
    {
     "ename": "TypeError",
     "evalue": "'tuple' object does not support item assignment",
     "output_type": "error",
     "traceback": [
      "\u001b[1;31m---------------------------------------------------------------------------\u001b[0m",
      "\u001b[1;31mTypeError\u001b[0m                                 Traceback (most recent call last)",
      "Cell \u001b[1;32mIn[51], line 2\u001b[0m\n\u001b[0;32m      1\u001b[0m t1 \u001b[38;5;241m=\u001b[39m (\u001b[38;5;241m1\u001b[39m,\u001b[38;5;241m2\u001b[39m,\u001b[38;5;124m'\u001b[39m\u001b[38;5;124ma\u001b[39m\u001b[38;5;124m'\u001b[39m,\u001b[38;5;124m'\u001b[39m\u001b[38;5;124mb\u001b[39m\u001b[38;5;124m'\u001b[39m)\n\u001b[1;32m----> 2\u001b[0m t1[\u001b[38;5;241m0\u001b[39m] \u001b[38;5;241m=\u001b[39m \u001b[38;5;124m'\u001b[39m\u001b[38;5;124mc\u001b[39m\u001b[38;5;124m'\u001b[39m\n",
      "\u001b[1;31mTypeError\u001b[0m: 'tuple' object does not support item assignment"
     ]
    }
   ],
   "source": [
    "t1 = (1,2,'a','b')     # 요솟값 변경 불가\n",
    "t1[0] = 'c'"
   ]
  },
  {
   "cell_type": "markdown",
   "id": "b1fb470f-6c40-41ac-92cb-b1ba5c7a7d14",
   "metadata": {},
   "source": [
    "### 튜플 다루기"
   ]
  },
  {
   "cell_type": "code",
   "execution_count": 52,
   "id": "63963cc8-aeb5-470a-8dfc-1f88aa4581db",
   "metadata": {},
   "outputs": [
    {
     "data": {
      "text/plain": [
       "1"
      ]
     },
     "execution_count": 52,
     "metadata": {},
     "output_type": "execute_result"
    }
   ],
   "source": [
    "# 인덱싱\n",
    "t1 = (1,2,'a','b')\n",
    "t1[0]"
   ]
  },
  {
   "cell_type": "code",
   "execution_count": 53,
   "id": "198a2e03-b7c8-4440-829b-29a42b170f31",
   "metadata": {},
   "outputs": [
    {
     "data": {
      "text/plain": [
       "'b'"
      ]
     },
     "execution_count": 53,
     "metadata": {},
     "output_type": "execute_result"
    }
   ],
   "source": [
    "t1[3]"
   ]
  },
  {
   "cell_type": "code",
   "execution_count": 54,
   "id": "6d246285-1141-492b-9168-cf7a8b836665",
   "metadata": {},
   "outputs": [
    {
     "data": {
      "text/plain": [
       "(2, 'a', 'b')"
      ]
     },
     "execution_count": 54,
     "metadata": {},
     "output_type": "execute_result"
    }
   ],
   "source": [
    "# 슬라이싱\n",
    "t1 = (1,2,'a','b')\n",
    "t1[1:]"
   ]
  },
  {
   "cell_type": "code",
   "execution_count": 55,
   "id": "8ca618f9-56dd-4c23-a12b-996c22604949",
   "metadata": {},
   "outputs": [
    {
     "data": {
      "text/plain": [
       "(1, 2, 'a', 'b', 3, 4)"
      ]
     },
     "execution_count": 55,
     "metadata": {},
     "output_type": "execute_result"
    }
   ],
   "source": [
    "# 더하기\n",
    "t1 = (1,2,'a','b')\n",
    "t2 = (3,4)\n",
    "t3 = t1 + t2\n",
    "t3"
   ]
  },
  {
   "cell_type": "code",
   "execution_count": 56,
   "id": "7b61762f-e07d-4593-aeaa-3a9c3db5ae5a",
   "metadata": {},
   "outputs": [
    {
     "data": {
      "text/plain": [
       "(3, 4, 3, 4, 3, 4)"
      ]
     },
     "execution_count": 56,
     "metadata": {},
     "output_type": "execute_result"
    }
   ],
   "source": [
    "# 곱하기\n",
    "t2 = (3,4)\n",
    "t3 = t2 * 3\n",
    "t3"
   ]
  },
  {
   "cell_type": "code",
   "execution_count": 57,
   "id": "6263164d-ee9a-45d6-a1d8-5556572172bd",
   "metadata": {},
   "outputs": [
    {
     "data": {
      "text/plain": [
       "4"
      ]
     },
     "execution_count": 57,
     "metadata": {},
     "output_type": "execute_result"
    }
   ],
   "source": [
    "# 길이 구하기\n",
    "t1 = (1,2,'a','b')\n",
    "len(t1)"
   ]
  },
  {
   "cell_type": "markdown",
   "id": "e9543eed-611c-49e3-8ed3-3676d1748b14",
   "metadata": {},
   "source": [
    "# 집합"
   ]
  },
  {
   "cell_type": "code",
   "execution_count": 58,
   "id": "86e2b2ae-1c31-49e0-860a-8453cfe3f106",
   "metadata": {},
   "outputs": [
    {
     "data": {
      "text/plain": [
       "{1, 2, 3}"
      ]
     },
     "execution_count": 58,
     "metadata": {},
     "output_type": "execute_result"
    }
   ],
   "source": [
    "# set 키워드 사용\n",
    "s1 = set([1,2,3])\n",
    "s1"
   ]
  },
  {
   "cell_type": "code",
   "execution_count": 59,
   "id": "ae1e7ae6-52c9-4c66-9361-1ce5fc325239",
   "metadata": {},
   "outputs": [
    {
     "data": {
      "text/plain": [
       "{'H', 'e', 'i', 'o'}"
      ]
     },
     "execution_count": 59,
     "metadata": {},
     "output_type": "execute_result"
    }
   ],
   "source": [
    "s2 = set(\"Heiio\")     # 함수는 중복 표기안함 / 순서가 없음\n",
    "s2"
   ]
  },
  {
   "cell_type": "code",
   "execution_count": 60,
   "id": "8659ae34-b506-48dd-9083-e4152a483eaa",
   "metadata": {},
   "outputs": [],
   "source": [
    "s1 = set([1, 2, 3, 4, 5, 6])\n",
    "s2 = set([4, 5, 6, 7, 8, 9])"
   ]
  },
  {
   "cell_type": "code",
   "execution_count": 62,
   "id": "bc1531dc-6c27-447c-aad1-d62083a4c73c",
   "metadata": {},
   "outputs": [
    {
     "data": {
      "text/plain": [
       "{4, 5, 6}"
      ]
     },
     "execution_count": 62,
     "metadata": {},
     "output_type": "execute_result"
    }
   ],
   "source": [
    "# 교집합   & / intersection()\n",
    "s1 & s2"
   ]
  },
  {
   "cell_type": "code",
   "execution_count": 63,
   "id": "bfe58161-82cb-4b50-aabb-cec830bee53a",
   "metadata": {},
   "outputs": [
    {
     "data": {
      "text/plain": [
       "{1, 2, 3, 4, 5, 6, 7, 8, 9}"
      ]
     },
     "execution_count": 63,
     "metadata": {},
     "output_type": "execute_result"
    }
   ],
   "source": [
    "# 합집합     | / union()\n",
    "s1 | s2"
   ]
  },
  {
   "cell_type": "code",
   "execution_count": 65,
   "id": "1b20ce33-fa0e-4eae-b09a-2532f1a84344",
   "metadata": {},
   "outputs": [
    {
     "data": {
      "text/plain": [
       "{1, 2, 3}"
      ]
     },
     "execution_count": 65,
     "metadata": {},
     "output_type": "execute_result"
    }
   ],
   "source": [
    "# 차집합     - / difference()\n",
    "s1 - s2"
   ]
  },
  {
   "cell_type": "code",
   "execution_count": 66,
   "id": "87b84e81-2fb5-4718-81eb-fc6563762b41",
   "metadata": {},
   "outputs": [
    {
     "data": {
      "text/plain": [
       "{7, 8, 9}"
      ]
     },
     "execution_count": 66,
     "metadata": {},
     "output_type": "execute_result"
    }
   ],
   "source": [
    "s2 - s1"
   ]
  },
  {
   "cell_type": "markdown",
   "id": "516c010e-98ca-4fb1-9a3d-b4655855d85a",
   "metadata": {},
   "source": [
    "### 관련 함수"
   ]
  },
  {
   "cell_type": "code",
   "execution_count": 68,
   "id": "883a63ab-1924-4043-8f27-4918f63b9618",
   "metadata": {},
   "outputs": [
    {
     "data": {
      "text/plain": [
       "{1, 2, 3, 4}"
      ]
     },
     "execution_count": 68,
     "metadata": {},
     "output_type": "execute_result"
    }
   ],
   "source": [
    "# 값 1개 추가\n",
    "# add()\n",
    "\n",
    "s1 = set([1,2,3])\n",
    "s1.add(4)\n",
    "s1"
   ]
  },
  {
   "cell_type": "code",
   "execution_count": 69,
   "id": "d25207b8-a434-4145-a622-db9fc6a9ab26",
   "metadata": {},
   "outputs": [
    {
     "data": {
      "text/plain": [
       "{1, 2, 3, 4, 5, 6}"
      ]
     },
     "execution_count": 69,
     "metadata": {},
     "output_type": "execute_result"
    }
   ],
   "source": [
    "# 값 여러개 추가\n",
    "# update()\n",
    "\n",
    "s1 = set([1,2,3])\n",
    "s1.update([4,5,6])\n",
    "s1"
   ]
  },
  {
   "cell_type": "code",
   "execution_count": 70,
   "id": "dd1e1964-d575-4149-8fcd-923b6d2238bc",
   "metadata": {},
   "outputs": [
    {
     "data": {
      "text/plain": [
       "{1, 3}"
      ]
     },
     "execution_count": 70,
     "metadata": {},
     "output_type": "execute_result"
    }
   ],
   "source": [
    "# 특정 값 제거\n",
    "# remove()\n",
    "\n",
    "s1 = set([1,2,3])\n",
    "s1.remove(2)\n",
    "s1"
   ]
  },
  {
   "cell_type": "code",
   "execution_count": null,
   "id": "cbe95c72-b86d-43e8-9fc5-f3296036c874",
   "metadata": {},
   "outputs": [],
   "source": []
  }
 ],
 "metadata": {
  "kernelspec": {
   "display_name": "Python 3 (ipykernel)",
   "language": "python",
   "name": "python3"
  },
  "language_info": {
   "codemirror_mode": {
    "name": "ipython",
    "version": 3
   },
   "file_extension": ".py",
   "mimetype": "text/x-python",
   "name": "python",
   "nbconvert_exporter": "python",
   "pygments_lexer": "ipython3",
   "version": "3.13.5"
  }
 },
 "nbformat": 4,
 "nbformat_minor": 5
}
