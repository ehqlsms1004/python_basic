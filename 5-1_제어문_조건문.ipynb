{
 "cells": [
  {
   "cell_type": "markdown",
   "id": "9fd7b23f-020d-419c-9744-d67b9618c1c0",
   "metadata": {},
   "source": [
    "# 1. if문의 기본 구조"
   ]
  },
  {
   "cell_type": "code",
   "execution_count": 1,
   "id": "b93f6bc3-0401-42a0-bb92-213e1941a454",
   "metadata": {},
   "outputs": [
    {
     "ename": "IndentationError",
     "evalue": "unexpected indent (1844545467.py, line 5)",
     "output_type": "error",
     "traceback": [
      "\u001b[1;36m  Cell \u001b[1;32mIn[1], line 5\u001b[1;36m\u001b[0m\n\u001b[1;33m    print('가라')\u001b[0m\n\u001b[1;37m    ^\u001b[0m\n\u001b[1;31mIndentationError\u001b[0m\u001b[1;31m:\u001b[0m unexpected indent\n"
     ]
    }
   ],
   "source": [
    "money = True\n",
    "if money:\n",
    "    print('택시를')\n",
    "print('타고')\n",
    "    print('가라')"
   ]
  },
  {
   "cell_type": "code",
   "execution_count": 3,
   "id": "81dc2d7b-d840-433a-9ec7-7dd3c1f42e62",
   "metadata": {},
   "outputs": [
    {
     "name": "stdout",
     "output_type": "stream",
     "text": [
      "타고\n"
     ]
    }
   ],
   "source": [
    "money = False\n",
    "if money:\n",
    "    print('택시를')\n",
    "print('타고')"
   ]
  },
  {
   "cell_type": "code",
   "execution_count": 4,
   "id": "887ccb41-b70e-442d-bd51-a7e4c0e1fc20",
   "metadata": {},
   "outputs": [
    {
     "name": "stdout",
     "output_type": "stream",
     "text": [
      "택시를\n",
      "타고\n"
     ]
    }
   ],
   "source": [
    "money = True\n",
    "if money:\n",
    "    print('택시를')\n",
    "    print('타고')"
   ]
  },
  {
   "cell_type": "code",
   "execution_count": 5,
   "id": "76e8b00b-ec6b-484b-9543-18da6a490d35",
   "metadata": {},
   "outputs": [
    {
     "ename": "SyntaxError",
     "evalue": "expected ':' (3247788257.py, line 1)",
     "output_type": "error",
     "traceback": [
      "\u001b[1;36m  Cell \u001b[1;32mIn[5], line 1\u001b[1;36m\u001b[0m\n\u001b[1;33m    if money\u001b[0m\n\u001b[1;37m            ^\u001b[0m\n\u001b[1;31mSyntaxError\u001b[0m\u001b[1;31m:\u001b[0m expected ':'\n"
     ]
    }
   ],
   "source": [
    "if money\n",
    "    print('택시를  타고')"
   ]
  },
  {
   "cell_type": "markdown",
   "id": "94778d85-1431-4dbd-bba0-1a4dcbc25188",
   "metadata": {},
   "source": [
    "## 2. 연산자"
   ]
  },
  {
   "cell_type": "code",
   "execution_count": 6,
   "id": "332d9413-03a4-4722-a7ac-ec5fd324219a",
   "metadata": {},
   "outputs": [
    {
     "name": "stdout",
     "output_type": "stream",
     "text": [
      "True\n",
      "False\n",
      "False\n",
      "True\n"
     ]
    }
   ],
   "source": [
    "# 비교 연산자\n",
    "x = 3\n",
    "y = 2\n",
    "\n",
    "print(x>y)  #True\n",
    "print(x<y)  #False\n",
    "print(x==y) #False\n",
    "print(x!=y) #True"
   ]
  },
  {
   "cell_type": "code",
   "execution_count": 8,
   "id": "145a0b8a-c2b4-4252-9f85-159d517451e9",
   "metadata": {},
   "outputs": [
    {
     "name": "stdout",
     "output_type": "stream",
     "text": [
      "택시를 타고 가라\n"
     ]
    }
   ],
   "source": [
    "money = 5000\n",
    "\n",
    "if money >= 3000:\n",
    "    print('택시를 타고 가라')\n",
    "else:\n",
    "    print('걸어가라')"
   ]
  },
  {
   "cell_type": "code",
   "execution_count": 11,
   "id": "5debc636-27b1-4c01-a1ea-a4494205484c",
   "metadata": {},
   "outputs": [
    {
     "name": "stdout",
     "output_type": "stream",
     "text": [
      "택시를 타고 가라\n"
     ]
    }
   ],
   "source": [
    "# 논리 연산자\n",
    "# 조건식 x, y => and 둘다 True일 때 True\n",
    "#                or 하나만 True이면 True\n",
    "#                not True->False, False -> True\n",
    "\n",
    "money = 0\n",
    "card = True\n",
    "\n",
    "if money >= 3000 or card:\n",
    "    print('택시를 타고 가라')\n",
    "else:\n",
    "    print('걸어가라')"
   ]
  },
  {
   "cell_type": "code",
   "execution_count": 12,
   "id": "18ba9200-3280-443b-bafa-6b7bc673b200",
   "metadata": {},
   "outputs": [
    {
     "data": {
      "text/plain": [
       "True"
      ]
     },
     "execution_count": 12,
     "metadata": {},
     "output_type": "execute_result"
    }
   ],
   "source": [
    "# in, not in\n",
    "1 in [1,2,3]"
   ]
  },
  {
   "cell_type": "code",
   "execution_count": 13,
   "id": "0c1d5308-6547-4f16-8170-f4157c269597",
   "metadata": {},
   "outputs": [
    {
     "data": {
      "text/plain": [
       "False"
      ]
     },
     "execution_count": 13,
     "metadata": {},
     "output_type": "execute_result"
    }
   ],
   "source": [
    "1 not in [1,2,3]"
   ]
  },
  {
   "cell_type": "code",
   "execution_count": 14,
   "id": "f90521d0-319b-4a97-b3ae-82594a1c8355",
   "metadata": {},
   "outputs": [
    {
     "data": {
      "text/plain": [
       "True"
      ]
     },
     "execution_count": 14,
     "metadata": {},
     "output_type": "execute_result"
    }
   ],
   "source": [
    "'a' in ('a','b','c','d')"
   ]
  },
  {
   "cell_type": "code",
   "execution_count": 15,
   "id": "71117ba8-ab2c-4629-8f21-2368f6189030",
   "metadata": {},
   "outputs": [
    {
     "data": {
      "text/plain": [
       "False"
      ]
     },
     "execution_count": 15,
     "metadata": {},
     "output_type": "execute_result"
    }
   ],
   "source": [
    "'a' not in ('a','b','c','d')"
   ]
  },
  {
   "cell_type": "code",
   "execution_count": 17,
   "id": "bc7a0d94-3d31-46fe-818f-c0c762c31aa3",
   "metadata": {},
   "outputs": [
    {
     "data": {
      "text/plain": [
       "True"
      ]
     },
     "execution_count": 17,
     "metadata": {},
     "output_type": "execute_result"
    }
   ],
   "source": [
    "'b' in ('a','b','c','d')"
   ]
  },
  {
   "cell_type": "code",
   "execution_count": 18,
   "id": "387473c2-fead-46e6-bd8b-5295aab18e83",
   "metadata": {},
   "outputs": [
    {
     "name": "stdout",
     "output_type": "stream",
     "text": [
      "택시를 타고 가라\n"
     ]
    }
   ],
   "source": [
    "poket = ['paper','cellphone','money']\n",
    "\n",
    "if 'money' in poket:\n",
    "    print('택시를 타고 가라')\n",
    "else:\n",
    "    print('걸어가라')"
   ]
  },
  {
   "cell_type": "code",
   "execution_count": 23,
   "id": "8d434781-0e2b-460a-a7e4-af44f6c35772",
   "metadata": {},
   "outputs": [],
   "source": [
    "# pass : 실행문 실행하지 않고 넘어가기\n",
    "poket = ['paper','cellphone','money']\n",
    "\n",
    "if 'money' in poket:\n",
    "    pass\n",
    "else:\n",
    "    print('카드를 꺼내라')"
   ]
  },
  {
   "cell_type": "markdown",
   "id": "45c999f5-78ce-487f-99ff-73d8fcc7e4a8",
   "metadata": {},
   "source": [
    "## 3. 다양한 조건을 판단하는 elif"
   ]
  },
  {
   "cell_type": "code",
   "execution_count": 24,
   "id": "7a5634c5-bdc9-46ff-ac5f-d821d3db1801",
   "metadata": {},
   "outputs": [
    {
     "name": "stdout",
     "output_type": "stream",
     "text": [
      "택시를 타고 가라\n"
     ]
    }
   ],
   "source": [
    "# if, else 만으로 표현\n",
    "pocket = ['paper', 'cellphone']\n",
    "card = True\n",
    "\n",
    "if 'money' in pocket:\n",
    "    print('택시를 타고 가라')\n",
    "else:\n",
    "    if card:\n",
    "        print('택시를 타고 가라')\n",
    "    else:\n",
    "        print('걸어가라')"
   ]
  },
  {
   "cell_type": "code",
   "execution_count": 25,
   "id": "ed1c9c6a-44d6-48d4-af5d-131b34a13470",
   "metadata": {},
   "outputs": [
    {
     "name": "stdout",
     "output_type": "stream",
     "text": [
      "카드로 택시를 타고 가라\n"
     ]
    }
   ],
   "source": [
    "# elif\n",
    "pocket = ['paper', 'cellphone']\n",
    "card = True\n",
    "\n",
    "if 'money' in pocket:\n",
    "    print('택시를 타고 가라')\n",
    "elif card:\n",
    "    print('카드로 택시를 타고 가라')\n",
    "else:\n",
    "    print('걸어가라')"
   ]
  },
  {
   "cell_type": "code",
   "execution_count": 27,
   "id": "ca6797f0-475d-4d2c-9ba4-d200bc8d5d30",
   "metadata": {},
   "outputs": [
    {
     "name": "stdout",
     "output_type": "stream",
     "text": [
      "D\n"
     ]
    }
   ],
   "source": [
    "math = 60\n",
    "\n",
    "if math>=90:\n",
    "    print('A')\n",
    "elif math>=80:\n",
    "    print('B')\n",
    "elif math>=70:\n",
    "    print('C')\n",
    "elif math>=60:\n",
    "    print('D')\n",
    "else:\n",
    "    print('F')"
   ]
  },
  {
   "cell_type": "code",
   "execution_count": 28,
   "id": "0d409819-b319-4b4b-9ad9-0bd7b31f33ae",
   "metadata": {},
   "outputs": [],
   "source": [
    "# if문 한 줄로 작성하기\n",
    "poket = ['paper','cellphone','money']\n",
    "\n",
    "if 'money' in poket:pass\n",
    "else:print('카드를 꺼내라')"
   ]
  },
  {
   "cell_type": "markdown",
   "id": "8c0e9ce5-8116-4710-93e6-233e2bd55063",
   "metadata": {},
   "source": [
    "## 4. 조건부 표현식"
   ]
  },
  {
   "cell_type": "code",
   "execution_count": 38,
   "id": "1ae41f22-1791-4370-a3e0-3ae9c3741380",
   "metadata": {},
   "outputs": [],
   "source": [
    "score = 90\n",
    "\n",
    "if score >= 60:\n",
    "    message = \"success\"\n",
    "else:\n",
    "    message = \"failure\"\n",
    "    print(message)"
   ]
  },
  {
   "cell_type": "code",
   "execution_count": 39,
   "id": "4ec56430-3e12-47a1-a11e-351a4ed599d6",
   "metadata": {},
   "outputs": [
    {
     "name": "stdout",
     "output_type": "stream",
     "text": [
      "success\n"
     ]
    }
   ],
   "source": [
    "# 조건부 표현식\n",
    "message = 'success' if score >=60 else \"failure\"\n",
    "\n",
    "print(message)"
   ]
  },
  {
   "cell_type": "code",
   "execution_count": null,
   "id": "840f9762-f3c2-4750-91c0-65fcbd828cfa",
   "metadata": {},
   "outputs": [],
   "source": []
  }
 ],
 "metadata": {
  "kernelspec": {
   "display_name": "Python 3 (ipykernel)",
   "language": "python",
   "name": "python3"
  },
  "language_info": {
   "codemirror_mode": {
    "name": "ipython",
    "version": 3
   },
   "file_extension": ".py",
   "mimetype": "text/x-python",
   "name": "python",
   "nbconvert_exporter": "python",
   "pygments_lexer": "ipython3",
   "version": "3.13.5"
  }
 },
 "nbformat": 4,
 "nbformat_minor": 5
}
