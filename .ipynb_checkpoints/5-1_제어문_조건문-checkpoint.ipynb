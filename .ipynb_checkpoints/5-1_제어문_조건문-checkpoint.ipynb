{
 "cells": [
  {
   "cell_type": "markdown",
   "id": "9fd7b23f-020d-419c-9744-d67b9618c1c0",
   "metadata": {},
   "source": [
    "# 1. if문의 기본 구조"
   ]
  },
  {
   "cell_type": "code",
   "execution_count": 1,
   "id": "b93f6bc3-0401-42a0-bb92-213e1941a454",
   "metadata": {},
   "outputs": [
    {
     "ename": "IndentationError",
     "evalue": "unexpected indent (1844545467.py, line 5)",
     "output_type": "error",
     "traceback": [
      "\u001b[1;36m  Cell \u001b[1;32mIn[1], line 5\u001b[1;36m\u001b[0m\n\u001b[1;33m    print('가라')\u001b[0m\n\u001b[1;37m    ^\u001b[0m\n\u001b[1;31mIndentationError\u001b[0m\u001b[1;31m:\u001b[0m unexpected indent\n"
     ]
    }
   ],
   "source": [
    "money = True\n",
    "if money:\n",
    "    print('택시를')\n",
    "print('타고')\n",
    "    print('가라')"
   ]
  },
  {
   "cell_type": "code",
   "execution_count": 3,
   "id": "81dc2d7b-d840-433a-9ec7-7dd3c1f42e62",
   "metadata": {},
   "outputs": [
    {
     "name": "stdout",
     "output_type": "stream",
     "text": [
      "타고\n"
     ]
    }
   ],
   "source": [
    "money = False\n",
    "if money:\n",
    "    print('택시를')\n",
    "print('타고')"
   ]
  },
  {
   "cell_type": "code",
   "execution_count": 4,
   "id": "887ccb41-b70e-442d-bd51-a7e4c0e1fc20",
   "metadata": {},
   "outputs": [
    {
     "name": "stdout",
     "output_type": "stream",
     "text": [
      "택시를\n",
      "타고\n"
     ]
    }
   ],
   "source": [
    "money = True\n",
    "if money:\n",
    "    print('택시를')\n",
    "    print('타고')"
   ]
  },
  {
   "cell_type": "code",
   "execution_count": 5,
   "id": "76e8b00b-ec6b-484b-9543-18da6a490d35",
   "metadata": {},
   "outputs": [
    {
     "ename": "SyntaxError",
     "evalue": "expected ':' (3247788257.py, line 1)",
     "output_type": "error",
     "traceback": [
      "\u001b[1;36m  Cell \u001b[1;32mIn[5], line 1\u001b[1;36m\u001b[0m\n\u001b[1;33m    if money\u001b[0m\n\u001b[1;37m            ^\u001b[0m\n\u001b[1;31mSyntaxError\u001b[0m\u001b[1;31m:\u001b[0m expected ':'\n"
     ]
    }
   ],
   "source": [
    "if money\n",
    "    print('택시를  타고')"
   ]
  },
  {
   "cell_type": "markdown",
   "id": "94778d85-1431-4dbd-bba0-1a4dcbc25188",
   "metadata": {},
   "source": [
    "## 2. 연산자"
   ]
  },
  {
   "cell_type": "code",
   "execution_count": 6,
   "id": "332d9413-03a4-4722-a7ac-ec5fd324219a",
   "metadata": {},
   "outputs": [
    {
     "name": "stdout",
     "output_type": "stream",
     "text": [
      "True\n",
      "False\n",
      "False\n",
      "True\n"
     ]
    }
   ],
   "source": [
    "# 비교 연산자\n",
    "x = 3\n",
    "y = 2\n",
    "\n",
    "print(x>y)  #True\n",
    "print(x<y)  #False\n",
    "print(x==y) #False\n",
    "print(x!=y) #True"
   ]
  },
  {
   "cell_type": "code",
   "execution_count": 8,
   "id": "145a0b8a-c2b4-4252-9f85-159d517451e9",
   "metadata": {},
   "outputs": [
    {
     "name": "stdout",
     "output_type": "stream",
     "text": [
      "택시를 타고 가라\n"
     ]
    }
   ],
   "source": [
    "money = 5000\n",
    "\n",
    "if money >= 3000:\n",
    "    print('택시를 타고 가라')\n",
    "else:\n",
    "    print('걸어가라')"
   ]
  },
  {
   "cell_type": "code",
   "execution_count": 11,
   "id": "5debc636-27b1-4c01-a1ea-a4494205484c",
   "metadata": {},
   "outputs": [
    {
     "name": "stdout",
     "output_type": "stream",
     "text": [
      "택시를 타고 가라\n"
     ]
    }
   ],
   "source": [
    "# 논리 연산자\n",
    "# 조건식 x, y => and 둘다 True일 때 True\n",
    "#                or 하나만 True이면 True\n",
    "#                not True->False, False -> True\n",
    "\n",
    "money = 0\n",
    "card = True\n",
    "\n",
    "if money >= 3000 or card:\n",
    "    print('택시를 타고 가라')\n",
    "else:\n",
    "    print('걸어가라')"
   ]
  },
  {
   "cell_type": "code",
   "execution_count": 12,
   "id": "18ba9200-3280-443b-bafa-6b7bc673b200",
   "metadata": {},
   "outputs": [
    {
     "data": {
      "text/plain": [
       "True"
      ]
     },
     "execution_count": 12,
     "metadata": {},
     "output_type": "execute_result"
    }
   ],
   "source": [
    "# in, not in\n",
    "1 in [1,2,3]"
   ]
  },
  {
   "cell_type": "code",
   "execution_count": 13,
   "id": "0c1d5308-6547-4f16-8170-f4157c269597",
   "metadata": {},
   "outputs": [
    {
     "data": {
      "text/plain": [
       "False"
      ]
     },
     "execution_count": 13,
     "metadata": {},
     "output_type": "execute_result"
    }
   ],
   "source": [
    "1 not in [1,2,3]"
   ]
  },
  {
   "cell_type": "code",
   "execution_count": null,
   "id": "f90521d0-319b-4a97-b3ae-82594a1c8355",
   "metadata": {},
   "outputs": [],
   "source": []
  }
 ],
 "metadata": {
  "kernelspec": {
   "display_name": "Python 3 (ipykernel)",
   "language": "python",
   "name": "python3"
  },
  "language_info": {
   "codemirror_mode": {
    "name": "ipython",
    "version": 3
   },
   "file_extension": ".py",
   "mimetype": "text/x-python",
   "name": "python",
   "nbconvert_exporter": "python",
   "pygments_lexer": "ipython3",
   "version": "3.13.5"
  }
 },
 "nbformat": 4,
 "nbformat_minor": 5
}
