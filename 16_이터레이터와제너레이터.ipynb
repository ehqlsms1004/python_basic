{
 "cells": [
  {
   "cell_type": "markdown",
   "id": "4b63a4da-6e40-4d06-acea-b19ff75064d3",
   "metadata": {},
   "source": [
    "## 1. 이터레이터란?"
   ]
  },
  {
   "cell_type": "code",
   "execution_count": 1,
   "id": "716e1fc2-5e1c-4b69-b4b5-d97db2c7d380",
   "metadata": {},
   "outputs": [
    {
     "ename": "TypeError",
     "evalue": "'list' object is not an iterator",
     "output_type": "error",
     "traceback": [
      "\u001b[1;31m---------------------------------------------------------------------------\u001b[0m",
      "\u001b[1;31mTypeError\u001b[0m                                 Traceback (most recent call last)",
      "Cell \u001b[1;32mIn[1], line 2\u001b[0m\n\u001b[0;32m      1\u001b[0m a \u001b[38;5;241m=\u001b[39m [\u001b[38;5;241m1\u001b[39m,\u001b[38;5;241m2\u001b[39m,\u001b[38;5;241m3\u001b[39m]\n\u001b[1;32m----> 2\u001b[0m \u001b[38;5;28mnext\u001b[39m(a)\n",
      "\u001b[1;31mTypeError\u001b[0m: 'list' object is not an iterator"
     ]
    }
   ],
   "source": [
    "a = [1,2,3]\n",
    "next(a)"
   ]
  },
  {
   "cell_type": "code",
   "execution_count": 3,
   "id": "04a28c04-05e2-47fa-a444-3ec019acf9a4",
   "metadata": {},
   "outputs": [
    {
     "data": {
      "text/plain": [
       "list_iterator"
      ]
     },
     "execution_count": 3,
     "metadata": {},
     "output_type": "execute_result"
    }
   ],
   "source": [
    "# 리스트를 iter()함수로 이터레이터 객체로 변환\n",
    "a = [1,2,3]\n",
    "ia = iter(a)\n",
    "type(ia)"
   ]
  },
  {
   "cell_type": "code",
   "execution_count": 4,
   "id": "873aece8-95ae-4093-bdc8-643acaf59bc6",
   "metadata": {},
   "outputs": [
    {
     "data": {
      "text/plain": [
       "1"
      ]
     },
     "execution_count": 4,
     "metadata": {},
     "output_type": "execute_result"
    }
   ],
   "source": [
    "next(ia)"
   ]
  },
  {
   "cell_type": "code",
   "execution_count": 5,
   "id": "07f59c16-e2f9-4a34-b9e9-5bceb855a842",
   "metadata": {},
   "outputs": [
    {
     "data": {
      "text/plain": [
       "2"
      ]
     },
     "execution_count": 5,
     "metadata": {},
     "output_type": "execute_result"
    }
   ],
   "source": [
    "next(ia)"
   ]
  },
  {
   "cell_type": "code",
   "execution_count": 6,
   "id": "e329703a-8b7b-42c2-8fdf-88741c7978de",
   "metadata": {},
   "outputs": [
    {
     "data": {
      "text/plain": [
       "3"
      ]
     },
     "execution_count": 6,
     "metadata": {},
     "output_type": "execute_result"
    }
   ],
   "source": [
    "next(ia)"
   ]
  },
  {
   "cell_type": "code",
   "execution_count": 7,
   "id": "9b69af2a-ab47-4f2b-8b05-4f88d38b3e64",
   "metadata": {},
   "outputs": [
    {
     "ename": "StopIteration",
     "evalue": "",
     "output_type": "error",
     "traceback": [
      "\u001b[1;31m---------------------------------------------------------------------------\u001b[0m",
      "\u001b[1;31mStopIteration\u001b[0m                             Traceback (most recent call last)",
      "Cell \u001b[1;32mIn[7], line 1\u001b[0m\n\u001b[1;32m----> 1\u001b[0m \u001b[38;5;28mnext\u001b[39m(ia)\n",
      "\u001b[1;31mStopIteration\u001b[0m: "
     ]
    }
   ],
   "source": [
    "next(ia)"
   ]
  },
  {
   "cell_type": "code",
   "execution_count": 8,
   "id": "e552e99a-7f16-4142-9da8-64e23e2a6fce",
   "metadata": {},
   "outputs": [
    {
     "name": "stdout",
     "output_type": "stream",
     "text": [
      "1\n",
      "2\n",
      "3\n"
     ]
    }
   ],
   "source": [
    "# 이터레이터 값을 가져오는 일반적인 방법(for문)\n",
    "a = [1,2,3]\n",
    "ia = iter(a)\n",
    "for i in ia:\n",
    "    print(i)"
   ]
  },
  {
   "cell_type": "code",
   "execution_count": 9,
   "id": "70d8f77e-e940-4dc4-946f-ca00414e7183",
   "metadata": {},
   "outputs": [],
   "source": [
    "# 이터레이터 객체는 for문이나 next()로 그 값을 한 번 읽으면 다시 읽을 수 없음\n",
    "for i in ia:\n",
    "    print(i)"
   ]
  },
  {
   "cell_type": "markdown",
   "id": "16065e97-4ab9-41b5-9e8a-9fc094a6a44d",
   "metadata": {},
   "source": [
    "## 2. 제너레이터란?"
   ]
  },
  {
   "cell_type": "code",
   "execution_count": 10,
   "id": "b985f627-ec15-4f6d-9cf9-7169e2413438",
   "metadata": {},
   "outputs": [],
   "source": [
    "# 가장 간단한 제너레이터\n",
    "def mygen():\n",
    "    yield 'a'\n",
    "    yield 'b'\n",
    "    yield 'c'\n",
    "\n",
    "g = mygen()"
   ]
  },
  {
   "cell_type": "code",
   "execution_count": 11,
   "id": "cf213068-1b8f-4eaa-90aa-6e50ce9ba2b0",
   "metadata": {},
   "outputs": [
    {
     "data": {
      "text/plain": [
       "generator"
      ]
     },
     "execution_count": 11,
     "metadata": {},
     "output_type": "execute_result"
    }
   ],
   "source": [
    "type(g)"
   ]
  },
  {
   "cell_type": "code",
   "execution_count": 12,
   "id": "0edd2457-e710-4ce1-bcef-c6276595c8db",
   "metadata": {},
   "outputs": [
    {
     "data": {
      "text/plain": [
       "'a'"
      ]
     },
     "execution_count": 12,
     "metadata": {},
     "output_type": "execute_result"
    }
   ],
   "source": [
    "next(g)"
   ]
  },
  {
   "cell_type": "code",
   "execution_count": 13,
   "id": "6862f790-3c1f-432b-8908-4575616bdf15",
   "metadata": {},
   "outputs": [
    {
     "data": {
      "text/plain": [
       "'b'"
      ]
     },
     "execution_count": 13,
     "metadata": {},
     "output_type": "execute_result"
    }
   ],
   "source": [
    "next(g)"
   ]
  },
  {
   "cell_type": "code",
   "execution_count": 14,
   "id": "0e8de90c-ceaf-43f0-bc8c-6e423803378e",
   "metadata": {},
   "outputs": [
    {
     "data": {
      "text/plain": [
       "'c'"
      ]
     },
     "execution_count": 14,
     "metadata": {},
     "output_type": "execute_result"
    }
   ],
   "source": [
    "next(g)"
   ]
  },
  {
   "cell_type": "code",
   "execution_count": 15,
   "id": "dc2ff9af-1d82-448c-bea3-4e82f73a4b86",
   "metadata": {},
   "outputs": [
    {
     "ename": "StopIteration",
     "evalue": "",
     "output_type": "error",
     "traceback": [
      "\u001b[1;31m---------------------------------------------------------------------------\u001b[0m",
      "\u001b[1;31mStopIteration\u001b[0m                             Traceback (most recent call last)",
      "Cell \u001b[1;32mIn[15], line 1\u001b[0m\n\u001b[1;32m----> 1\u001b[0m \u001b[38;5;28mnext\u001b[39m(g)\n",
      "\u001b[1;31mStopIteration\u001b[0m: "
     ]
    }
   ],
   "source": [
    "next(g)"
   ]
  },
  {
   "cell_type": "markdown",
   "id": "38b40b12-51b0-4a2d-9a71-76cddf9af0ed",
   "metadata": {},
   "source": [
    "## 3. 제너레이터 표현식"
   ]
  },
  {
   "cell_type": "code",
   "execution_count": 18,
   "id": "7c4aac24-620b-4390-9fc5-835e088c51bc",
   "metadata": {},
   "outputs": [
    {
     "name": "stdout",
     "output_type": "stream",
     "text": [
      "1\n",
      "4\n",
      "9\n"
     ]
    }
   ],
   "source": [
    "def mygen():\n",
    "    for i in range(1, 1000):\n",
    "        result = i*i\n",
    "        yield result\n",
    "\n",
    "gen = mygen()\n",
    "\n",
    "print(next(gen))\n",
    "print(next(gen))\n",
    "print(next(gen))"
   ]
  },
  {
   "cell_type": "code",
   "execution_count": 19,
   "id": "0837b5cc-f5f2-4132-a34d-98a9485886d6",
   "metadata": {},
   "outputs": [
    {
     "name": "stdout",
     "output_type": "stream",
     "text": [
      "1\n",
      "4\n",
      "9\n",
      "16\n",
      "25\n"
     ]
    }
   ],
   "source": [
    "# 제너레티어 표현식\n",
    "gen = (i*i  for i in range(1, 1000))\n",
    "\n",
    "for i in range(1,6):\n",
    "    print(next(gen))"
   ]
  },
  {
   "cell_type": "code",
   "execution_count": null,
   "id": "6a87f542-4be8-404f-8e04-decba1dc12ac",
   "metadata": {},
   "outputs": [],
   "source": []
  }
 ],
 "metadata": {
  "kernelspec": {
   "display_name": "Python 3 (ipykernel)",
   "language": "python",
   "name": "python3"
  },
  "language_info": {
   "codemirror_mode": {
    "name": "ipython",
    "version": 3
   },
   "file_extension": ".py",
   "mimetype": "text/x-python",
   "name": "python",
   "nbconvert_exporter": "python",
   "pygments_lexer": "ipython3",
   "version": "3.13.5"
  }
 },
 "nbformat": 4,
 "nbformat_minor": 5
}
